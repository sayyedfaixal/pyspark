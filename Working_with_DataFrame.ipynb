{
 "cells": [
  {
   "attachments": {},
   "cell_type": "markdown",
   "metadata": {},
   "source": [
    "Starting the spark session"
   ]
  },
  {
   "cell_type": "code",
   "execution_count": 34,
   "metadata": {},
   "outputs": [
    {
     "data": {
      "text/html": [
       "\n",
       "            <div>\n",
       "                <p><b>SparkSession - in-memory</b></p>\n",
       "                \n",
       "        <div>\n",
       "            <p><b>SparkContext</b></p>\n",
       "\n",
       "            <p><a href=\"http://DESKTOP-0FSKS1T:4040\">Spark UI</a></p>\n",
       "\n",
       "            <dl>\n",
       "              <dt>Version</dt>\n",
       "                <dd><code>v3.3.2</code></dd>\n",
       "              <dt>Master</dt>\n",
       "                <dd><code>local[*]</code></dd>\n",
       "              <dt>AppName</dt>\n",
       "                <dd><code>Practice</code></dd>\n",
       "            </dl>\n",
       "        </div>\n",
       "        \n",
       "            </div>\n",
       "        "
      ],
      "text/plain": [
       "<pyspark.sql.session.SparkSession at 0x1132f770>"
      ]
     },
     "execution_count": 34,
     "metadata": {},
     "output_type": "execute_result"
    }
   ],
   "source": [
    "from pyspark.sql import SparkSession\n",
    "spark = SparkSession.builder.appName(\"Practice\").getOrCreate()\n",
    "spark"
   ]
  },
  {
   "attachments": {},
   "cell_type": "markdown",
   "metadata": {},
   "source": [
    "Reading the dataset"
   ]
  },
  {
   "cell_type": "code",
   "execution_count": 55,
   "metadata": {},
   "outputs": [
    {
     "name": "stdout",
     "output_type": "stream",
     "text": [
      "+-------+---+----------+\n",
      "|    _c0|_c1|       _c2|\n",
      "+-------+---+----------+\n",
      "|   Name|Age|Experience|\n",
      "| Faisal| 23|         2|\n",
      "|  Imran| 28|         5|\n",
      "| Zishan| 30|        10|\n",
      "|Aayesha| 21|         1|\n",
      "| Habiba| 20|         0|\n",
      "+-------+---+----------+\n",
      "\n"
     ]
    }
   ],
   "source": [
    "df_pyspark = spark.read.csv(\"test.csv\")\n",
    "df_pyspark.show()"
   ]
  },
  {
   "attachments": {},
   "cell_type": "markdown",
   "metadata": {},
   "source": [
    "Setting the header as the first row of the data and identifying the data types of each columns\n",
    "inferSchema = True identifies the data types of each column "
   ]
  },
  {
   "cell_type": "code",
   "execution_count": 56,
   "metadata": {},
   "outputs": [
    {
     "name": "stdout",
     "output_type": "stream",
     "text": [
      "+-------+---+----------+\n",
      "|   Name|Age|Experience|\n",
      "+-------+---+----------+\n",
      "| Faisal| 23|         2|\n",
      "|  Imran| 28|         5|\n",
      "| Zishan| 30|        10|\n",
      "|Aayesha| 21|         1|\n",
      "| Habiba| 20|         0|\n",
      "+-------+---+----------+\n",
      "\n"
     ]
    }
   ],
   "source": [
    "spark.read.option('header','true').csv('test.csv',inferSchema=True).show()"
   ]
  },
  {
   "cell_type": "code",
   "execution_count": 57,
   "metadata": {},
   "outputs": [
    {
     "name": "stdout",
     "output_type": "stream",
     "text": [
      "root\n",
      " |-- _c0: string (nullable = true)\n",
      " |-- _c1: string (nullable = true)\n",
      " |-- _c2: string (nullable = true)\n",
      "\n"
     ]
    }
   ],
   "source": [
    "df_pyspark.printSchema()"
   ]
  },
  {
   "attachments": {},
   "cell_type": "markdown",
   "metadata": {},
   "source": [
    "Another way of writing it in the same format"
   ]
  },
  {
   "cell_type": "code",
   "execution_count": 58,
   "metadata": {},
   "outputs": [
    {
     "name": "stdout",
     "output_type": "stream",
     "text": [
      "+-------+---+----------+\n",
      "|   Name|Age|Experience|\n",
      "+-------+---+----------+\n",
      "| Faisal| 23|         2|\n",
      "|  Imran| 28|         5|\n",
      "| Zishan| 30|        10|\n",
      "|Aayesha| 21|         1|\n",
      "| Habiba| 20|         0|\n",
      "+-------+---+----------+\n",
      "\n"
     ]
    }
   ],
   "source": [
    "df_pyspark=spark.read.csv('test.csv',header=True,inferSchema=True)\n",
    "df_pyspark.show()"
   ]
  },
  {
   "attachments": {},
   "cell_type": "markdown",
   "metadata": {},
   "source": [
    "Selecting the specific columns"
   ]
  },
  {
   "cell_type": "code",
   "execution_count": 59,
   "metadata": {},
   "outputs": [
    {
     "name": "stdout",
     "output_type": "stream",
     "text": [
      "+-------+---+\n",
      "|   Name|Age|\n",
      "+-------+---+\n",
      "| Faisal| 23|\n",
      "|  Imran| 28|\n",
      "| Zishan| 30|\n",
      "|Aayesha| 21|\n",
      "| Habiba| 20|\n",
      "+-------+---+\n",
      "\n"
     ]
    }
   ],
   "source": [
    "df_pyspark.select([\"Name\", \"Age\"]).show()"
   ]
  },
  {
   "cell_type": "code",
   "execution_count": 60,
   "metadata": {},
   "outputs": [
    {
     "name": "stdout",
     "output_type": "stream",
     "text": [
      "+-------+-------+----------------+----------------+\n",
      "|summary|   Name|             Age|      Experience|\n",
      "+-------+-------+----------------+----------------+\n",
      "|  count|      5|               5|               5|\n",
      "|   mean|   null|            24.4|             3.6|\n",
      "| stddev|   null|4.39317652729776|4.03732584763727|\n",
      "|    min|Aayesha|              20|               0|\n",
      "|    max| Zishan|              30|              10|\n",
      "+-------+-------+----------------+----------------+\n",
      "\n"
     ]
    }
   ],
   "source": [
    "df_pyspark.describe().show()"
   ]
  },
  {
   "attachments": {},
   "cell_type": "markdown",
   "metadata": {},
   "source": [
    "Adding columns in the DataFrame\n",
    "We will be adding the new column as Experience after 2 years and adding each value of experience to Experience after 2 years"
   ]
  },
  {
   "cell_type": "code",
   "execution_count": 65,
   "metadata": {},
   "outputs": [
    {
     "name": "stdout",
     "output_type": "stream",
     "text": [
      "+-------+---+----------+----------------------+\n",
      "|   Name|Age|Experience|Experience After 2 yrs|\n",
      "+-------+---+----------+----------------------+\n",
      "| Faisal| 23|         2|                     4|\n",
      "|  Imran| 28|         5|                     7|\n",
      "| Zishan| 30|        10|                    12|\n",
      "|Aayesha| 21|         1|                     3|\n",
      "| Habiba| 20|         0|                     2|\n",
      "+-------+---+----------+----------------------+\n",
      "\n"
     ]
    }
   ],
   "source": [
    "df_pyspark = df_pyspark.withColumn(\"Experience After 2 yrs\", df_pyspark[\"Experience\"]+2)\n",
    "df_pyspark.show()"
   ]
  },
  {
   "cell_type": "code",
   "execution_count": 69,
   "metadata": {},
   "outputs": [
    {
     "name": "stdout",
     "output_type": "stream",
     "text": [
      "+-------+---+----------+----------------------+------+\n",
      "|   Name|Age|Experience|Experience After 2 yrs|Salary|\n",
      "+-------+---+----------+----------------------+------+\n",
      "| Faisal| 23|         2|                     4| 20000|\n",
      "|  Imran| 28|         5|                     7| 50000|\n",
      "| Zishan| 30|        10|                    12|100000|\n",
      "|Aayesha| 21|         1|                     3| 10000|\n",
      "| Habiba| 20|         0|                     2|     0|\n",
      "+-------+---+----------+----------------------+------+\n",
      "\n"
     ]
    }
   ],
   "source": [
    "df_pyspark = df_pyspark.withColumn(\"Salary\", df_pyspark[\"Experience\"]*10000)\n",
    "df_pyspark.show()"
   ]
  },
  {
   "cell_type": "code",
   "execution_count": 70,
   "metadata": {},
   "outputs": [
    {
     "name": "stdout",
     "output_type": "stream",
     "text": [
      "+-------+---+----------+----------------------+------+-------+\n",
      "|   Name|Age|Experience|Experience After 2 yrs|Salary|Expense|\n",
      "+-------+---+----------+----------------------+------+-------+\n",
      "| Faisal| 23|         2|                     4| 20000|  19000|\n",
      "|  Imran| 28|         5|                     7| 50000|  49000|\n",
      "| Zishan| 30|        10|                    12|100000|  99000|\n",
      "|Aayesha| 21|         1|                     3| 10000|   9000|\n",
      "| Habiba| 20|         0|                     2|     0|  -1000|\n",
      "+-------+---+----------+----------------------+------+-------+\n",
      "\n"
     ]
    }
   ],
   "source": [
    "df_pyspark = df_pyspark.withColumn(\"Expense\", df_pyspark[\"Salary\"]-1000)\n",
    "df_pyspark.show()"
   ]
  },
  {
   "attachments": {},
   "cell_type": "markdown",
   "metadata": {},
   "source": [
    "Dropping the Columns"
   ]
  },
  {
   "cell_type": "code",
   "execution_count": 73,
   "metadata": {},
   "outputs": [
    {
     "name": "stdout",
     "output_type": "stream",
     "text": [
      "+-------+---+----------+------+-------+\n",
      "|   Name|Age|Experience|Salary|Expense|\n",
      "+-------+---+----------+------+-------+\n",
      "| Faisal| 23|         2| 20000|  19000|\n",
      "|  Imran| 28|         5| 50000|  49000|\n",
      "| Zishan| 30|        10|100000|  99000|\n",
      "|Aayesha| 21|         1| 10000|   9000|\n",
      "| Habiba| 20|         0|     0|  -1000|\n",
      "+-------+---+----------+------+-------+\n",
      "\n"
     ]
    }
   ],
   "source": [
    "df_pyspark=df_pyspark.drop('Experience After 2 yrs')\n",
    "df_pyspark.show()"
   ]
  },
  {
   "attachments": {},
   "cell_type": "markdown",
   "metadata": {},
   "source": [
    "Renaming the columns"
   ]
  },
  {
   "cell_type": "code",
   "execution_count": 74,
   "metadata": {},
   "outputs": [
    {
     "name": "stdout",
     "output_type": "stream",
     "text": [
      "+--------+---+----------+------+-------+\n",
      "|New Name|Age|Experience|Salary|Expense|\n",
      "+--------+---+----------+------+-------+\n",
      "|  Faisal| 23|         2| 20000|  19000|\n",
      "|   Imran| 28|         5| 50000|  49000|\n",
      "|  Zishan| 30|        10|100000|  99000|\n",
      "| Aayesha| 21|         1| 10000|   9000|\n",
      "|  Habiba| 20|         0|     0|  -1000|\n",
      "+--------+---+----------+------+-------+\n",
      "\n"
     ]
    }
   ],
   "source": [
    "df_pyspark.withColumnRenamed('Name','New Name').show()"
   ]
  }
 ],
 "metadata": {
  "kernelspec": {
   "display_name": "Python 3",
   "language": "python",
   "name": "python3"
  },
  "language_info": {
   "codemirror_mode": {
    "name": "ipython",
    "version": 3
   },
   "file_extension": ".py",
   "mimetype": "text/x-python",
   "name": "python",
   "nbconvert_exporter": "python",
   "pygments_lexer": "ipython3",
   "version": "3.7.4"
  },
  "orig_nbformat": 4,
  "vscode": {
   "interpreter": {
    "hash": "acc4ec3ac8ec90bb39b4725fe7319c4ac87533cd717104377e916c9391e3b5bf"
   }
  }
 },
 "nbformat": 4,
 "nbformat_minor": 2
}
