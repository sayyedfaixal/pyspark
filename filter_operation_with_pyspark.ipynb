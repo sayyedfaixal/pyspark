{
 "cells": [
  {
   "cell_type": "code",
   "execution_count": 6,
   "metadata": {},
   "outputs": [],
   "source": [
    "from pyspark.sql import SparkSession"
   ]
  },
  {
   "cell_type": "code",
   "execution_count": 7,
   "metadata": {},
   "outputs": [],
   "source": [
    "spark = SparkSession.builder.appName(\"DataFrame FIlter\").getOrCreate()"
   ]
  },
  {
   "cell_type": "code",
   "execution_count": 8,
   "metadata": {},
   "outputs": [
    {
     "name": "stdout",
     "output_type": "stream",
     "text": [
      "+-------+---+----------+-------+\n",
      "|   Name|Age|Experience| Salary|\n",
      "+-------+---+----------+-------+\n",
      "| Faisal| 23|         2|1200000|\n",
      "|  Imran| 28|         5| 800000|\n",
      "| Zishan| 33|        10|1000000|\n",
      "|Aayesha| 21|         1| 600000|\n",
      "| Habiba| 20|         0| 500000|\n",
      "|  Hajra| 24|         1| 450000|\n",
      "| Nashra|  2|         0|      0|\n",
      "| Zainab|  1|         0|      0|\n",
      "+-------+---+----------+-------+\n",
      "\n"
     ]
    }
   ],
   "source": [
    "df_pyspark = spark.read.csv(\"filter.csv\", header=True, inferSchema=True)\n",
    "df_pyspark.show()"
   ]
  },
  {
   "cell_type": "code",
   "execution_count": 20,
   "metadata": {},
   "outputs": [
    {
     "name": "stdout",
     "output_type": "stream",
     "text": [
      "+------+---+----------+------+\n",
      "|  Name|Age|Experience|Salary|\n",
      "+------+---+----------+------+\n",
      "|Nashra|  2|         0|     0|\n",
      "|Zainab|  1|         0|     0|\n",
      "+------+---+----------+------+\n",
      "\n",
      "+-------+---+----------+-------+\n",
      "|   Name|Age|Experience| Salary|\n",
      "+-------+---+----------+-------+\n",
      "| Faisal| 23|         2|1200000|\n",
      "|  Imran| 28|         5| 800000|\n",
      "| Zishan| 33|        10|1000000|\n",
      "|Aayesha| 21|         1| 600000|\n",
      "| Habiba| 20|         0| 500000|\n",
      "|  Hajra| 24|         1| 450000|\n",
      "+-------+---+----------+-------+\n",
      "\n"
     ]
    }
   ],
   "source": [
    "#Filtering the row\n",
    "df_pyspark.filter(\"(Salary<=100000) and (Age <10)\").show()\n",
    "df_pyspark.filter((df_pyspark[\"Salary\"]>100000) | ( df_pyspark[\"Age\"] > 5)).show()"
   ]
  },
  {
   "cell_type": "code",
   "execution_count": 17,
   "metadata": {},
   "outputs": [
    {
     "name": "stdout",
     "output_type": "stream",
     "text": [
      "+------+---+\n",
      "|  Name|Age|\n",
      "+------+---+\n",
      "|Nashra|  2|\n",
      "|Zainab|  1|\n",
      "+------+---+\n",
      "\n"
     ]
    }
   ],
   "source": [
    "#Filtering the row and further selection\n",
    "df_pyspark.filter(\"Salary<=100000\").select([\"Name\", \"Age\"]).show()"
   ]
  }
 ],
 "metadata": {
  "kernelspec": {
   "display_name": "Python 3",
   "language": "python",
   "name": "python3"
  },
  "language_info": {
   "codemirror_mode": {
    "name": "ipython",
    "version": 3
   },
   "file_extension": ".py",
   "mimetype": "text/x-python",
   "name": "python",
   "nbconvert_exporter": "python",
   "pygments_lexer": "ipython3",
   "version": "3.7.4"
  },
  "orig_nbformat": 4,
  "vscode": {
   "interpreter": {
    "hash": "acc4ec3ac8ec90bb39b4725fe7319c4ac87533cd717104377e916c9391e3b5bf"
   }
  }
 },
 "nbformat": 4,
 "nbformat_minor": 2
}
