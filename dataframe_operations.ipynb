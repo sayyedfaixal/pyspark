{
 "cells": [
  {
   "cell_type": "code",
   "execution_count": 1,
   "metadata": {},
   "outputs": [],
   "source": [
    "from pyspark.sql import SparkSession\n",
    "spark = SparkSession.builder.appName(\"Practice\").getOrCreate()"
   ]
  },
  {
   "cell_type": "code",
   "execution_count": 2,
   "metadata": {},
   "outputs": [
    {
     "data": {
      "text/html": [
       "\n",
       "            <div>\n",
       "                <p><b>SparkSession - in-memory</b></p>\n",
       "                \n",
       "        <div>\n",
       "            <p><b>SparkContext</b></p>\n",
       "\n",
       "            <p><a href=\"http://DESKTOP-0FSKS1T:4040\">Spark UI</a></p>\n",
       "\n",
       "            <dl>\n",
       "              <dt>Version</dt>\n",
       "                <dd><code>v3.3.2</code></dd>\n",
       "              <dt>Master</dt>\n",
       "                <dd><code>local[*]</code></dd>\n",
       "              <dt>AppName</dt>\n",
       "                <dd><code>Practice</code></dd>\n",
       "            </dl>\n",
       "        </div>\n",
       "        \n",
       "            </div>\n",
       "        "
      ],
      "text/plain": [
       "<pyspark.sql.session.SparkSession at 0x10d6e730>"
      ]
     },
     "execution_count": 2,
     "metadata": {},
     "output_type": "execute_result"
    }
   ],
   "source": [
    "spark"
   ]
  },
  {
   "cell_type": "code",
   "execution_count": 3,
   "metadata": {},
   "outputs": [
    {
     "name": "stdout",
     "output_type": "stream",
     "text": [
      "+-------+----+----------+-------+\n",
      "|   Name| Age|Experience| Salary|\n",
      "+-------+----+----------+-------+\n",
      "| Faisal|  23|         2|1200000|\n",
      "|  Imran|  28|         5|   null|\n",
      "| Zishan|null|        10|1000000|\n",
      "|Aayesha|  21|         1| 600000|\n",
      "| Habiba|  20|         0| 500000|\n",
      "|  Hajra|  24|      null| 450000|\n",
      "| Nashra|   2|      null|   null|\n",
      "| Zainab|null|      null|   null|\n",
      "|   null|  36|        10|3500000|\n",
      "|   null|  38|      null|   null|\n",
      "+-------+----+----------+-------+\n",
      "\n"
     ]
    }
   ],
   "source": [
    "df_spark = spark.read.csv(\"test1.csv\", header=True, inferSchema=True)\n",
    "df_spark.show()"
   ]
  },
  {
   "attachments": {},
   "cell_type": "markdown",
   "metadata": {},
   "source": [
    "Dropping NULL values\n",
    "1. By default the drop() will drop all the values if the row contains atleast 1 NULL values\n",
    "2. drop() method has three parameters how, threshold, subset\n",
    "3. By default how is set to any, -> this will remove all the entries even if we have a single NULL value\n",
    "4. if we set how = 'all' -> it will drop that value where entire row has NULL value\n",
    "\n",
    "drop(how, thresh, subset)"
   ]
  },
  {
   "cell_type": "code",
   "execution_count": 4,
   "metadata": {},
   "outputs": [
    {
     "name": "stdout",
     "output_type": "stream",
     "text": [
      "+-------+---+----------+-------+\n",
      "|   Name|Age|Experience| Salary|\n",
      "+-------+---+----------+-------+\n",
      "| Faisal| 23|         2|1200000|\n",
      "|Aayesha| 21|         1| 600000|\n",
      "| Habiba| 20|         0| 500000|\n",
      "+-------+---+----------+-------+\n",
      "\n"
     ]
    }
   ],
   "source": [
    "df_spark.na.drop().show()"
   ]
  },
  {
   "cell_type": "code",
   "execution_count": 5,
   "metadata": {},
   "outputs": [
    {
     "name": "stdout",
     "output_type": "stream",
     "text": [
      "+-------+----+----------+-------+\n",
      "|   Name| Age|Experience| Salary|\n",
      "+-------+----+----------+-------+\n",
      "| Faisal|  23|         2|1200000|\n",
      "|  Imran|  28|         5|   null|\n",
      "| Zishan|null|        10|1000000|\n",
      "|Aayesha|  21|         1| 600000|\n",
      "| Habiba|  20|         0| 500000|\n",
      "|  Hajra|  24|      null| 450000|\n",
      "| Nashra|   2|      null|   null|\n",
      "| Zainab|null|      null|   null|\n",
      "|   null|  36|        10|3500000|\n",
      "|   null|  38|      null|   null|\n",
      "+-------+----+----------+-------+\n",
      "\n"
     ]
    }
   ],
   "source": [
    "df_spark.na.drop(how='all').show()"
   ]
  },
  {
   "attachments": {},
   "cell_type": "markdown",
   "metadata": {},
   "source": [
    "Threshold -> it says atleast how many number of NON-NULL values should be present in the row"
   ]
  },
  {
   "cell_type": "code",
   "execution_count": 6,
   "metadata": {},
   "outputs": [
    {
     "name": "stdout",
     "output_type": "stream",
     "text": [
      "+-------+----+----------+-------+\n",
      "|   Name| Age|Experience| Salary|\n",
      "+-------+----+----------+-------+\n",
      "| Faisal|  23|         2|1200000|\n",
      "|  Imran|  28|         5|   null|\n",
      "| Zishan|null|        10|1000000|\n",
      "|Aayesha|  21|         1| 600000|\n",
      "| Habiba|  20|         0| 500000|\n",
      "|  Hajra|  24|      null| 450000|\n",
      "| Nashra|   2|      null|   null|\n",
      "|   null|  36|        10|3500000|\n",
      "+-------+----+----------+-------+\n",
      "\n"
     ]
    }
   ],
   "source": [
    "df_spark.na.drop(thresh=2).show()"
   ]
  },
  {
   "attachments": {},
   "cell_type": "markdown",
   "metadata": {},
   "source": [
    "Subset -> We can drop the NULL values from the specific columns using subset"
   ]
  },
  {
   "cell_type": "code",
   "execution_count": 7,
   "metadata": {},
   "outputs": [
    {
     "name": "stdout",
     "output_type": "stream",
     "text": [
      "+-------+----+----------+-------+\n",
      "|   Name| Age|Experience| Salary|\n",
      "+-------+----+----------+-------+\n",
      "| Faisal|  23|         2|1200000|\n",
      "|  Imran|  28|         5|   null|\n",
      "| Zishan|null|        10|1000000|\n",
      "|Aayesha|  21|         1| 600000|\n",
      "| Habiba|  20|         0| 500000|\n",
      "|  Hajra|  24|      null| 450000|\n",
      "| Nashra|   2|      null|   null|\n",
      "| Zainab|null|      null|   null|\n",
      "|   null|  36|        10|3500000|\n",
      "|   null|  38|      null|   null|\n",
      "+-------+----+----------+-------+\n",
      "\n"
     ]
    }
   ],
   "source": [
    "df_spark.show()"
   ]
  },
  {
   "cell_type": "code",
   "execution_count": 8,
   "metadata": {},
   "outputs": [
    {
     "name": "stdout",
     "output_type": "stream",
     "text": [
      "+-------+----+----------+-------+\n",
      "|   Name| Age|Experience| Salary|\n",
      "+-------+----+----------+-------+\n",
      "| Faisal|  23|         2|1200000|\n",
      "|  Imran|  28|         5|   null|\n",
      "| Zishan|null|        10|1000000|\n",
      "|Aayesha|  21|         1| 600000|\n",
      "| Habiba|  20|         0| 500000|\n",
      "|   null|  36|        10|3500000|\n",
      "+-------+----+----------+-------+\n",
      "\n"
     ]
    }
   ],
   "source": [
    "df_spark.na.drop(subset=['Experience']).show()"
   ]
  },
  {
   "attachments": {},
   "cell_type": "markdown",
   "metadata": {},
   "source": [
    "Replacing the missing values"
   ]
  },
  {
   "cell_type": "code",
   "execution_count": 11,
   "metadata": {},
   "outputs": [
    {
     "name": "stdout",
     "output_type": "stream",
     "text": [
      "+--------------+----+----------+-------+\n",
      "|          Name| Age|Experience| Salary|\n",
      "+--------------+----+----------+-------+\n",
      "|        Faisal|  23|         2|1200000|\n",
      "|         Imran|  28|         5|   null|\n",
      "|        Zishan|null|        10|1000000|\n",
      "|       Aayesha|  21|         1| 600000|\n",
      "|        Habiba|  20|         0| 500000|\n",
      "|         Hajra|  24|      null| 450000|\n",
      "|        Nashra|   2|      null|   null|\n",
      "|        Zainab|null|      null|   null|\n",
      "|Missing Values|  36|        10|3500000|\n",
      "|Missing Values|  38|      null|   null|\n",
      "+--------------+----+----------+-------+\n",
      "\n"
     ]
    }
   ],
   "source": [
    "df_spark.na.fill('Missing Values').show()"
   ]
  },
  {
   "attachments": {},
   "cell_type": "markdown",
   "metadata": {},
   "source": [
    "Replacing the Null values with the Mean"
   ]
  },
  {
   "cell_type": "code",
   "execution_count": 16,
   "metadata": {},
   "outputs": [
    {
     "name": "stdout",
     "output_type": "stream",
     "text": [
      "+-------+----+----------+-------+-----------+------------------+--------------+\n",
      "|   Name| Age|Experience| Salary|Age_imputed|Experience_imputed|Salary_imputed|\n",
      "+-------+----+----------+-------+-----------+------------------+--------------+\n",
      "| Faisal|  23|         2|1200000|         23|                 2|       1200000|\n",
      "|  Imran|  28|         5|   null|         28|                 5|       1208333|\n",
      "| Zishan|null|        10|1000000|         24|                10|       1000000|\n",
      "|Aayesha|  21|         1| 600000|         21|                 1|        600000|\n",
      "| Habiba|  20|         0| 500000|         20|                 0|        500000|\n",
      "|  Hajra|  24|      null| 450000|         24|                 4|        450000|\n",
      "| Nashra|   2|      null|   null|          2|                 4|       1208333|\n",
      "| Zainab|null|      null|   null|         24|                 4|       1208333|\n",
      "|   null|  36|        10|3500000|         36|                10|       3500000|\n",
      "|   null|  38|      null|   null|         38|                 4|       1208333|\n",
      "+-------+----+----------+-------+-----------+------------------+--------------+\n",
      "\n"
     ]
    }
   ],
   "source": [
    "from pyspark.ml.feature import Imputer\n",
    "imputer = Imputer(\n",
    "    inputCols=['Age', 'Experience', 'Salary'],\n",
    "    outputCols=[\"{}_imputed\".format(c) for c in ['Age', 'Experience', 'Salary']]\n",
    "    ).setStrategy(\"mean\")\n",
    "\n",
    "#Add imputation cols of df\n",
    "imputer.fit(df_spark).transform(df_spark).show()"
   ]
  }
 ],
 "metadata": {
  "kernelspec": {
   "display_name": "Python 3",
   "language": "python",
   "name": "python3"
  },
  "language_info": {
   "codemirror_mode": {
    "name": "ipython",
    "version": 3
   },
   "file_extension": ".py",
   "mimetype": "text/x-python",
   "name": "python",
   "nbconvert_exporter": "python",
   "pygments_lexer": "ipython3",
   "version": "3.7.4"
  },
  "orig_nbformat": 4,
  "vscode": {
   "interpreter": {
    "hash": "acc4ec3ac8ec90bb39b4725fe7319c4ac87533cd717104377e916c9391e3b5bf"
   }
  }
 },
 "nbformat": 4,
 "nbformat_minor": 2
}
